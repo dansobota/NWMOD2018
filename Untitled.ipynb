{
 "cells": [
  {
   "cell_type": "markdown",
   "metadata": {},
   "source": [
    "# Installing tabulizer and Java  \n",
    "<br>\n",
    "April 26, 2018  \n",
    "<br>\n",
    "Dan Sobota and Anna Withington"
   ]
  },
  {
   "cell_type": "code",
   "execution_count": 1,
   "metadata": {},
   "outputs": [
    {
     "name": "stderr",
     "output_type": "stream",
     "text": [
      "Downloading GitHub repo ropensci/tabulizerjars@master\n",
      "from URL https://api.github.com/repos/ropensci/tabulizerjars/zipball/master\n",
      "Installing tabulizerjars\n",
      "Installing 1 package: rJava\n",
      "Warning message in utils::install.packages(pkgs, repos = repos, type = type, dependencies = dependencies, :\n",
      "\"'lib = \"C:/Program Files/R/R-3.4.3/library\"' is not writable\"Installation failed: unable to install packages\n",
      "\"C:/PROGRA~1/R/R-34~1.3/bin/x64/R\" --no-site-file --no-environ --no-save  \\\n",
      "  --no-restore --quiet CMD INSTALL  \\\n",
      "  \"C:/Users/dsobota/AppData/Local/Temp/RtmpmChkN0/devtools27d02fc942e/ropensci-tabulizerjars-dba1263\"  \\\n",
      "  --library=\"C:/Program Files/R/R-3.4.3/library\" --install-tests \n",
      "\n",
      "Installation failed: Command failed (1)\n",
      "Downloading GitHub repo ropensci/tabulizer@master\n",
      "from URL https://api.github.com/repos/ropensci/tabulizer/zipball/master\n",
      "Installing tabulizer\n",
      "Installing 1 package: png\n",
      "Warning message in utils::install.packages(pkgs, repos = repos, type = type, dependencies = dependencies, :\n",
      "\"'lib = \"C:/Program Files/R/R-3.4.3/library\"' is not writable\"Installation failed: unable to install packages\n",
      "Installing 1 package: rJava\n",
      "Warning message in utils::install.packages(pkgs, repos = repos, type = type, dependencies = dependencies, :\n",
      "\"'lib = \"C:/Program Files/R/R-3.4.3/library\"' is not writable\"Installation failed: unable to install packages\n",
      "Downloading GitHub repo ropensci/tabulizerjars@master\n",
      "from URL https://api.github.com/repos/ropensci/tabulizerjars/zipball/master\n",
      "Installing tabulizerjars\n",
      "Installing 1 package: rJava\n",
      "Warning message in utils::install.packages(pkgs, repos = repos, type = type, dependencies = dependencies, :\n",
      "\"'lib = \"C:/Program Files/R/R-3.4.3/library\"' is not writable\"Installation failed: unable to install packages\n",
      "\"C:/PROGRA~1/R/R-34~1.3/bin/x64/R\" --no-site-file --no-environ --no-save  \\\n",
      "  --no-restore --quiet CMD INSTALL  \\\n",
      "  \"C:/Users/dsobota/AppData/Local/Temp/RtmpmChkN0/devtools27d05b25e13/ropensci-tabulizerjars-dba1263\"  \\\n",
      "  --library=\"C:/Program Files/R/R-3.4.3/library\" --install-tests \n",
      "\n",
      "Installation failed: Command failed (1)\n",
      "\"C:/PROGRA~1/R/R-34~1.3/bin/x64/R\" --no-site-file --no-environ --no-save  \\\n",
      "  --no-restore --quiet CMD INSTALL  \\\n",
      "  \"C:/Users/dsobota/AppData/Local/Temp/RtmpmChkN0/devtools27d079635791/ropensci-tabulizer-2839fc5\"  \\\n",
      "  --library=\"C:/Program Files/R/R-3.4.3/library\" --install-tests \n",
      "\n",
      "Installation failed: Command failed (1)\n"
     ]
    },
    {
     "ename": "ERROR",
     "evalue": "Error in library(tabulizer): there is no package called 'tabulizer'\n",
     "output_type": "error",
     "traceback": [
      "Error in library(tabulizer): there is no package called 'tabulizer'\nTraceback:\n",
      "1. library(tabulizer)",
      "2. stop(txt, domain = NA)"
     ]
    }
   ],
   "source": [
    "library(devtools)\n",
    "install_github(c(\"ropensci/tabulizerjars\", \"ropensci/tabulizer\"), INSTALL_opts = \"--no-multiarch\")\n",
    "library(tabulizer)\n"
   ]
  },
  {
   "cell_type": "code",
   "execution_count": null,
   "metadata": {},
   "outputs": [],
   "source": []
  }
 ],
 "metadata": {
  "kernelspec": {
   "display_name": "R",
   "language": "R",
   "name": "ir"
  },
  "language_info": {
   "codemirror_mode": "r",
   "file_extension": ".r",
   "mimetype": "text/x-r-source",
   "name": "R",
   "pygments_lexer": "r",
   "version": "3.4.3"
  }
 },
 "nbformat": 4,
 "nbformat_minor": 2
}
