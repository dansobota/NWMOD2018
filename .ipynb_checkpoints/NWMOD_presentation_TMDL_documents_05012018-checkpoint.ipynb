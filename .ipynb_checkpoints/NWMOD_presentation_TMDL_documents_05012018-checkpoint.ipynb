{
 "cells": [
  {
   "cell_type": "markdown",
   "metadata": {
    "slideshow": {
     "slide_type": "slide"
    }
   },
   "source": [
    "# **Storing and Documenting TMDL project files**\n",
    "***\n",
    "  \n",
    "### Dan Sobota, Ryan Michie, and Kevin Brannan\n",
    "### Oregon Department of Environmental Quality  \n",
    "\n",
    "#### NWMOD \n",
    "#### May 1, 2018\n",
    "#### Astoria, OR\n",
    "<img src=\"DEQlogo.png\" alt=\"Drawing\" style=\"width: 50px; float: right;\"/>"
   ]
  },
  {
   "cell_type": "markdown",
   "metadata": {
    "slideshow": {
     "slide_type": "slide"
    }
   },
   "source": [
    "# Oregon TMDL project flow diagram\n",
    "***\n",
    "<img src=\"TMDL_process_OR.png\" alt=\"Drawing\" style=\"width: 900px;\"/>"
   ]
  },
  {
   "cell_type": "markdown",
   "metadata": {
    "slideshow": {
     "slide_type": "slide"
    }
   },
   "source": [
    "# Important TMDL project files\n",
    "***\n",
    "* Proposal  \n",
    "* QAPP  \n",
    "* Model development, testing, and implementation\n",
    "  + Calibration and validation\n",
    "  + Existing conditions\n",
    "  + TMDL  \n",
    "* Data  \n",
    "* Presentations  \n",
    "* Reports"
   ]
  },
  {
   "cell_type": "markdown",
   "metadata": {
    "slideshow": {
     "slide_type": "slide"
    }
   },
   "source": [
    "# Issues with TMDL file storage and access in Oregon\n",
    "***\n",
    "* Differs from static documents in EPA TMDL checklist\n",
    "* Lack of consistency of documentation and modeling files\n",
    "* Inconsistent naming conventions and folder structures\n",
    "* Lack of documentation describing files and models"
   ]
  },
  {
   "cell_type": "markdown",
   "metadata": {
    "slideshow": {
     "slide_type": "slide"
    }
   },
   "source": [
    "# Proposed TMDL Project file structure for Oregon\n",
    "***\n",
    "<img src=\"Kevin_figure.png\" alt=\"Drawing\" style=\"width: 600px;\"/>"
   ]
  },
  {
   "cell_type": "markdown",
   "metadata": {
    "slideshow": {
     "slide_type": "slide"
    }
   },
   "source": [
    "# Questions for the group\n",
    "***\n",
    "* Naming conventions for files: do you have specific guidance on the structure, version, and time stamp of file names?\n",
    "* Archiving of project files:  do you have a guidance document on a checklist of files (documents, models, data, etc.) for archiving TMDL projects?\n",
    "* Retention schedule guidance:  electronic storage and paper copies?"
   ]
  },
  {
   "cell_type": "markdown",
   "metadata": {
    "slideshow": {
     "slide_type": "slide"
    }
   },
   "source": [
    "# Thanks!\n",
    "***\n",
    "![Drift Creek](Drift Creek.jpg)"
   ]
  }
 ],
 "metadata": {
  "celltoolbar": "Slideshow",
  "kernelspec": {
   "display_name": "R",
   "language": "R",
   "name": "ir"
  },
  "language_info": {
   "codemirror_mode": "r",
   "file_extension": ".r",
   "mimetype": "text/x-r-source",
   "name": "R",
   "pygments_lexer": "r",
   "version": "3.4.3"
  }
 },
 "nbformat": 4,
 "nbformat_minor": 2
}
