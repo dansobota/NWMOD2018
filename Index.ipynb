{
 "cells": [
  {
   "cell_type": "markdown",
   "metadata": {
    "slideshow": {
     "slide_type": "slide"
    }
   },
   "source": [
    "# **Storing and Documenting TMDL project files**\n",
    "***\n",
    "<br>  \n",
    "### Dan Sobota, Ryan Michie, and Kevin Brannan\n",
    "### Oregon Department of Environmental Quality  \n",
    "<br>\n",
    "#### NWMOD \n",
    "#### May 1, 2018\n",
    "#### Astoria, OR\n",
    "<img src=\"DEQlogo.png\" alt=\"Drawing\" style=\"width: 50px; float: right;\"/>"
   ]
  },
  {
   "cell_type": "markdown",
   "metadata": {
    "slideshow": {
     "slide_type": "slide"
    }
   },
   "source": [
    "# Oregon TMDL project flow diagram\n",
    "***\n",
    "<img src=\"TMDL workflow2.png\" alt=\"Drawing\" style=\"width: 600px;\"/>"
   ]
  },
  {
   "cell_type": "markdown",
   "metadata": {
    "slideshow": {
     "slide_type": "slide"
    }
   },
   "source": [
    "# Issues with past TMDL file storage and access in Oregon\n",
    "***\n",
    "* Lack of consistency in documentation and modeling files  \n",
    "<br>\n",
    "* Inconsistent naming conventions and folder structures  \n",
    "<br>\n",
    "* TMDL project files stored separately from official TMDL document files  \n",
    "<br>\n",
    "* Retention schedule: currently files can be destroyed 5 years after the TMDL program sunsets"
   ]
  },
  {
   "cell_type": "markdown",
   "metadata": {
    "slideshow": {
     "slide_type": "slide"
    }
   },
   "source": [
    "# Draft TMDL Project file structure for Oregon\n",
    "***\n",
    "<p align=\"center\">\n",
    "<img src=\"TMDL document organization2.png\" alt=\"Drawing\" style=\"width: 600px;\"/>\n",
    "</p>\n",
    "* Adapted from Virgina DEQ"
   ]
  },
  {
   "cell_type": "markdown",
   "metadata": {
    "slideshow": {
     "slide_type": "slide"
    }
   },
   "source": [
    "# Questions for/guidance from EPA and other states\n",
    "***\n",
    "* Guidance on the structure, version, and time stamp of files and project folders?  \n",
    "<br>\n",
    "* Checklist of files (documents, models, data, etc.) for archiving TMDL projects (beyond EPA requirements)?  \n",
    "<br>\n",
    "* Schedules for electronic storage and paper copy retention?  \n",
    "<br>\n",
    "* Training materials or short courses on TMDL project file management?"
   ]
  },
  {
   "cell_type": "markdown",
   "metadata": {
    "slideshow": {
     "slide_type": "slide"
    }
   },
   "source": [
    "# Thanks!\n",
    "***\n",
    "![Drift Creek](Drift Creek.jpg)"
   ]
  }
 ],
 "metadata": {
  "celltoolbar": "Slideshow",
  "kernelspec": {
   "display_name": "R",
   "language": "R",
   "name": "ir"
  },
  "language_info": {
   "codemirror_mode": "r",
   "file_extension": ".r",
   "mimetype": "text/x-r-source",
   "name": "R",
   "pygments_lexer": "r",
   "version": "3.4.3"
  }
 },
 "nbformat": 4,
 "nbformat_minor": 2
}
