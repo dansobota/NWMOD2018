{
 "cells": [
  {
   "cell_type": "markdown",
   "metadata": {
    "slideshow": {
     "slide_type": "slide"
    }
   },
   "source": [
    "# **Storing and Documenting TMDL project files**\n",
    "***\n",
    "<br>  \n",
    "### Dan Sobota, Ryan Michie, and Kevin Brannan\n",
    "### Oregon Department of Environmental Quality  \n",
    "<br>\n",
    "#### NWMOD \n",
    "#### May 1, 2018\n",
    "#### Astoria, OR\n",
    "<img src=\"DEQlogo.png\" alt=\"Drawing\" style=\"width: 50px; float: right;\"/>"
   ]
  },
  {
   "cell_type": "markdown",
   "metadata": {
    "slideshow": {
     "slide_type": "slide"
    }
   },
   "source": [
    "# Issues with TMDL file storage and access in Oregon\n",
    "***\n",
    "* Lack of consistency of documentation and modeling files  \n",
    "<br>\n",
    "* Inconsistent naming conventions and folder structures  \n",
    "<br>\n",
    "* Lack of documentation describing files and models  \n",
    "<br>\n",
    "* TMDL project files stored separately from final TMDL document files  \n",
    "<br>\n",
    "* Retention schedule: currently files can be destroyed 5 years after the program sunsets; but new guidelines needed electronic and paper versions"
   ]
  },
  {
   "cell_type": "markdown",
   "metadata": {
    "slideshow": {
     "slide_type": "slide"
    }
   },
   "source": [
    "# Currently proposed Oregon TMDL project flow diagram\n",
    "***\n",
    "<img src=\"TMDL_process_OR.png\" alt=\"Drawing\" style=\"width: 900px;\"/>"
   ]
  },
  {
   "cell_type": "markdown",
   "metadata": {
    "slideshow": {
     "slide_type": "slide"
    }
   },
   "source": [
    "# Important TMDL project files\n",
    "***\n",
    "* Proposal/Project Plan  \n",
    "<br>\n",
    "* QAPP  \n",
    "<br>\n",
    "* Model development, testing, and implementation\n",
    "  + Calibration and validation reports\n",
    "  + Existing conditions scenario\n",
    "  + TMDL and allocations  \n",
    "<br>\n",
    "* Data  \n",
    "<br>\n",
    "* Presentations  \n",
    "<br>\n",
    "* Reports"
   ]
  },
  {
   "cell_type": "markdown",
   "metadata": {
    "slideshow": {
     "slide_type": "slide"
    }
   },
   "source": [
    "# Proposed TMDL Project file structure for Oregon\n",
    "***\n",
    "<p align=\"center\">\n",
    "<img src=\"TMDL document organization.png\" alt=\"Drawing\" style=\"width: 600px;\"/>\n",
    "</p>\n",
    "* Adapted from Virgina DEQ"
   ]
  },
  {
   "cell_type": "markdown",
   "metadata": {
    "slideshow": {
     "slide_type": "slide"
    }
   },
   "source": [
    "# Questions for the group\n",
    "***\n",
    "* Naming conventions: do you have specific guidance on the structure, version, and time stamp of files and project folders?  \n",
    "<br>\n",
    "* Archiving:  do you have a guidance document on a checklist of files (documents, models, data, etc.) for archiving TMDL projects (beyond EPA requirements)?  \n",
    "<br>\n",
    "* Retention schedule guidance:  schedules for electronic storage and paper copy retention?  \n",
    "<br>\n",
    "* Training:  do you have training materials or short courses on TMDL project management?"
   ]
  },
  {
   "cell_type": "markdown",
   "metadata": {
    "slideshow": {
     "slide_type": "slide"
    }
   },
   "source": [
    "# Thanks!\n",
    "***\n",
    "![Drift Creek](Drift Creek.jpg)"
   ]
  },
  {
   "cell_type": "code",
   "execution_count": null,
   "metadata": {},
   "outputs": [],
   "source": []
  }
 ],
 "metadata": {
  "celltoolbar": "Slideshow",
  "kernelspec": {
   "display_name": "R",
   "language": "R",
   "name": "ir"
  },
  "language_info": {
   "codemirror_mode": "r",
   "file_extension": ".r",
   "mimetype": "text/x-r-source",
   "name": "R",
   "pygments_lexer": "r",
   "version": "3.4.3"
  }
 },
 "nbformat": 4,
 "nbformat_minor": 2
}
